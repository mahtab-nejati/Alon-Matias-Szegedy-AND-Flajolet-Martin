{
 "cells": [
  {
   "cell_type": "markdown",
   "metadata": {},
   "source": [
    "# Mahtab Nejati\n",
    "# 98209434\n",
    "# Problem 10"
   ]
  },
  {
   "cell_type": "code",
   "execution_count": 1,
   "metadata": {},
   "outputs": [],
   "source": [
    "import pandas as pd\n",
    "import numpy as np\n",
    "from time import sleep\n",
    "import murmurhash as mmh\n",
    "import math\n",
    "from statistics import median,mean\n",
    "from random import uniform,shuffle\n",
    "import matplotlib.pyplot as plt\n",
    "from mpl_toolkits import mplot3d\n",
    "from matplotlib import cm\n",
    "from itertools import combinations"
   ]
  },
  {
   "cell_type": "markdown",
   "metadata": {},
   "source": [
    "## Load in the NASA dataset\n",
    "### Only kept the concatenation of host and url columns and their request arrival time."
   ]
  },
  {
   "cell_type": "code",
   "execution_count": 2,
   "metadata": {},
   "outputs": [
    {
     "name": "stdout",
     "output_type": "stream",
     "text": [
      "\n",
      "The number of unique addresses in the dataset is:\n",
      "\t\t\t1718139\n",
      "\n",
      "Total length of stream is:\n",
      "\t\t\t2965561\n"
     ]
    }
   ],
   "source": [
    "df = pd.read_csv('./q10.csv')\n",
    "remove_columns = list(df.columns)\n",
    "remove_columns.remove('time')\n",
    "df['address'] = df['host']+df['url']\n",
    "df = df.drop(remove_columns,axis=1).set_index('time').sort_values(by='time')\n",
    "unique_count = df.address.unique().shape[0]\n",
    "n = len(df)\n",
    "print('\\nThe number of unique addresses in the dataset is:\\n\\t\\t\\t'+str(unique_count),end='\\n\\n')\n",
    "print('Total length of stream is:\\n\\t\\t\\t'+str(n))"
   ]
  },
  {
   "cell_type": "markdown",
   "metadata": {},
   "source": [
    "## Part A: Flajolet Martin Algorithm"
   ]
  },
  {
   "cell_type": "markdown",
   "metadata": {},
   "source": [
    "## Stream data"
   ]
  },
  {
   "cell_type": "code",
   "execution_count": 3,
   "metadata": {},
   "outputs": [],
   "source": [
    "def stream_in_flajolet_martin(dataset,rate,l,max_len,tail_counts):\n",
    "    tails =  tail_counts.copy()\n",
    "    primes = get_primes(l,max_len)\n",
    "    shuffle(primes)\n",
    "    step = 0\n",
    "    for time,address in  dataset.iterrows():\n",
    "        step += 1\n",
    "        tails = flajolet_martin(address['address'],l,primes,max_len,tails)\n",
    "#         sleep(1/rate)\n",
    "        if step == max_len:\n",
    "            break\n",
    "    return tails"
   ]
  },
  {
   "cell_type": "markdown",
   "metadata": {},
   "source": [
    "## Generate prime numbers for hashing."
   ]
  },
  {
   "cell_type": "code",
   "execution_count": 4,
   "metadata": {},
   "outputs": [],
   "source": [
    "def get_primes(l,max_len):\n",
    "    primes = []\n",
    "    num = int(math.log2(max_len))\n",
    "    while len(primes)<l:\n",
    "        num+=1\n",
    "        if all(num%i!=0 for i in range(2,num)):\n",
    "            primes.append(num)\n",
    "    return primes"
   ]
  },
  {
   "cell_type": "markdown",
   "metadata": {},
   "source": [
    "## Hashing addresses"
   ]
  },
  {
   "cell_type": "code",
   "execution_count": 5,
   "metadata": {},
   "outputs": [],
   "source": [
    "def hash_item(item,ith_hash,primes,max_len):\n",
    "    p = primes[ith_hash]\n",
    "    hashed = mmh.hash(item,p)\n",
    "    return bin(hashed)[-int(math.log2(2*max_len)):]"
   ]
  },
  {
   "cell_type": "markdown",
   "metadata": {},
   "source": [
    "## Counting zeros in the tail"
   ]
  },
  {
   "cell_type": "code",
   "execution_count": 6,
   "metadata": {},
   "outputs": [],
   "source": [
    "def count_tail(hashed):\n",
    "    if hashed[0] == 'b':\n",
    "        hashed = hashed[1:]\n",
    "    if int(hashed,2) == 0:\n",
    "        return 0\n",
    "    s = str(hashed)\n",
    "    return len(s)-len(s.rstrip('0'))"
   ]
  },
  {
   "cell_type": "markdown",
   "metadata": {},
   "source": [
    "## Flajolet Martin algorithm"
   ]
  },
  {
   "cell_type": "code",
   "execution_count": 7,
   "metadata": {},
   "outputs": [],
   "source": [
    "def flajolet_martin(address,l,primes,max_len,tail_counts):\n",
    "    tails = tail_counts.copy()\n",
    "    for i in range(l):\n",
    "        hashed = hash_item(address,i,primes,max_len)\n",
    "        tail = count_tail(hashed)\n",
    "        if tails[i] < tail:\n",
    "            tails[i] = tail\n",
    "    return tails"
   ]
  },
  {
   "cell_type": "markdown",
   "metadata": {},
   "source": [
    "## Median of Averages\n",
    "### Partitioning the list of tail_counts into \"parts\" partitions, getting the mean of each part and outputing the meadian of the averages."
   ]
  },
  {
   "cell_type": "code",
   "execution_count": 8,
   "metadata": {},
   "outputs": [],
   "source": [
    "def median_of_averages(l,parts,tail_counts):\n",
    "    shuffle(tail_counts)\n",
    "    avg = l / float(parts)\n",
    "    results = []\n",
    "    last = 0.0\n",
    "    while last < len(tail_counts):\n",
    "        results.append(mean(tail_counts[int(last):int(last + avg)]))\n",
    "        last += avg\n",
    "\n",
    "    estimated_uniques = 2**median(results)\n",
    "    return estimated_uniques"
   ]
  },
  {
   "cell_type": "markdown",
   "metadata": {},
   "source": [
    "## Flajolet Martin main"
   ]
  },
  {
   "cell_type": "code",
   "execution_count": 9,
   "metadata": {},
   "outputs": [],
   "source": [
    "input_rate = 100000\n",
    "max_stream_len = n\n",
    "\n",
    "results_flajolet_martin = pd.DataFrame({'l':[],\n",
    "                                        'parts':[],\n",
    "                                        'estimation':[],\n",
    "                                        'err':[]})\n",
    "\n",
    "input_df = df.head(max_stream_len).copy()\n",
    "\n",
    "for l in list(range(1,11)):\n",
    "    tail_counts = [0]*l\n",
    "    tail_counts = stream_in_flajolet_martin(input_df,input_rate,l,max_stream_len,tail_counts)\n",
    "    for parts in list(range(1,l+1)):\n",
    "        estimation = median_of_averages(l,parts,tail_counts)\n",
    "        results_flajolet_martin = results_flajolet_martin.append({'l':l,\n",
    "                                        'parts':parts,\n",
    "                                        'estimation':estimation,\n",
    "                                        'err':np.NaN},ignore_index=True)   \n",
    "\n",
    "\n",
    "unique_count = input_df.address.unique().shape[0]\n",
    "results_flajolet_martin['err'] = np.round((abs(results_flajolet_martin['estimation']-unique_count))*100/unique_count,2)"
   ]
  },
  {
   "cell_type": "markdown",
   "metadata": {},
   "source": [
    "## Minimum error"
   ]
  },
  {
   "cell_type": "code",
   "execution_count": 10,
   "metadata": {},
   "outputs": [
    {
     "data": {
      "text/html": [
       "<div>\n",
       "<style scoped>\n",
       "    .dataframe tbody tr th:only-of-type {\n",
       "        vertical-align: middle;\n",
       "    }\n",
       "\n",
       "    .dataframe tbody tr th {\n",
       "        vertical-align: top;\n",
       "    }\n",
       "\n",
       "    .dataframe thead th {\n",
       "        text-align: right;\n",
       "    }\n",
       "</style>\n",
       "<table border=\"1\" class=\"dataframe\">\n",
       "  <thead>\n",
       "    <tr style=\"text-align: right;\">\n",
       "      <th></th>\n",
       "      <th>l</th>\n",
       "      <th>parts</th>\n",
       "      <th>estimation</th>\n",
       "      <th>err</th>\n",
       "    </tr>\n",
       "  </thead>\n",
       "  <tbody>\n",
       "    <tr>\n",
       "      <th>41</th>\n",
       "      <td>9.0</td>\n",
       "      <td>6.0</td>\n",
       "      <td>1.482910e+06</td>\n",
       "      <td>13.69</td>\n",
       "    </tr>\n",
       "  </tbody>\n",
       "</table>\n",
       "</div>"
      ],
      "text/plain": [
       "      l  parts    estimation    err\n",
       "41  9.0    6.0  1.482910e+06  13.69"
      ]
     },
     "execution_count": 10,
     "metadata": {},
     "output_type": "execute_result"
    }
   ],
   "source": [
    "minimum_err = results_flajolet_martin.loc[results_flajolet_martin['err']==min(results_flajolet_martin['err'])].copy()\n",
    "minimum_err"
   ]
  },
  {
   "cell_type": "markdown",
   "metadata": {},
   "source": [
    "## Plot the error with against number of hash functions (l) and number of partitions (parts)\n",
    "### For detailed report, refer to the repost pdf file."
   ]
  },
  {
   "cell_type": "code",
   "execution_count": 11,
   "metadata": {},
   "outputs": [
    {
     "data": {
      "image/png": "[encoded data removed]",
      "text/plain": [
       "<Figure size 432x288 with 2 Axes>"
      ]
     },
     "metadata": {
      "needs_background": "light"
     },
     "output_type": "display_data"
    }
   ],
   "source": [
    "x = list(results_flajolet_martin['l'])\n",
    "y = list(results_flajolet_martin['parts'])\n",
    "z = list(results_flajolet_martin['err'])\n",
    "\n",
    "fig = plt.figure()\n",
    "ax = plt.axes(projection='3d')\n",
    "ax.scatter3D(x,y,z,color='red')\n",
    "\n",
    "\n",
    "surf = ax.plot_trisurf(x,y,z,alpha=0.6,cmap=cm.jet)\n",
    "fig.colorbar(surf, shrink=0.5, aspect=5)\n",
    "ax.plot_trisurf\n",
    "ax.invert_yaxis()\n",
    "\n",
    "ax.set_xlabel('Number of hash functions')\n",
    "ax.set_ylabel('Number of partitions')\n",
    "ax.set_zlabel('Error (%)')\n",
    "fig.tight_layout()\n",
    "fig.savefig('q10_flajolet_martin_error')\n",
    "plt.show()"
   ]
  },
  {
   "cell_type": "markdown",
   "metadata": {},
   "source": [
    "## Part B: Alon–Matias–Szegedy Algorithm"
   ]
  },
  {
   "cell_type": "markdown",
   "metadata": {},
   "source": [
    "## Stream data"
   ]
  },
  {
   "cell_type": "code",
   "execution_count": 12,
   "metadata": {},
   "outputs": [],
   "source": [
    "def stream_in_alon_matias_szegedy(dataset,rate,l_counts,max_len,samples_counts):\n",
    "    samples =  samples_counts.copy()\n",
    "    ls = l_counts.copy()\n",
    "    step = 0\n",
    "    for time,address in  dataset.iterrows():\n",
    "        step += 1\n",
    "        ls,samples = alon_matias_szegedy(address['address'],ls,step,max_len,samples)\n",
    "#         sleep(1/rate)\n",
    "        if step == max_len:\n",
    "            break\n",
    "    return ls,samples"
   ]
  },
  {
   "cell_type": "markdown",
   "metadata": {},
   "source": [
    "## Alon-Matias-Szegey algorithm"
   ]
  },
  {
   "cell_type": "code",
   "execution_count": 13,
   "metadata": {},
   "outputs": [],
   "source": [
    "def alon_matias_szegedy(address,l_counts,step,max_len,samples_counts):\n",
    "    samples = sample_counts.copy()\n",
    "    ls = l_counts.copy()\n",
    "    for i in range(len(ls)):\n",
    "        if ls[i] < (i+1)*0.01*max_len:\n",
    "            if uniform(0,1) < step/max_len:\n",
    "                ls[i] += 1\n",
    "                try:\n",
    "                    x = samples[i][address]\n",
    "                except KeyError:\n",
    "                    samples[i][address]=0\n",
    "        try:\n",
    "            samples[i][address] += 1\n",
    "        except KeyError:\n",
    "            pass\n",
    "    return ls,samples"
   ]
  },
  {
   "cell_type": "markdown",
   "metadata": {},
   "source": [
    "## Alon-Matias-Szegedy main"
   ]
  },
  {
   "cell_type": "code",
   "execution_count": 14,
   "metadata": {},
   "outputs": [],
   "source": [
    "input_rate = 100000\n",
    "max_stream_len = n\n",
    "max_l = 10\n",
    "\n",
    "results_alon_matias_szegedy = pd.DataFrame({'l':[],\n",
    "                                            'estimation':[]})\n",
    "\n",
    "input_df = df.head(max_stream_len).copy()\n",
    "\n",
    "for l in list(range(1,max_l+1)):\n",
    "    l_counts = [0]*l\n",
    "    sample_counts = []\n",
    "    for i in range(l):\n",
    "        sample_counts.append({}.copy())\n",
    "    l_counts,smaple_counts = stream_in_alon_matias_szegedy(input_df,input_rate,l_counts,max_stream_len,sample_counts)\n",
    "    all_second_moments = [sum([v**2 for k,v in sample_counts[i].items()]) for i in range(l)]\n",
    "    estimated_second_moment = mean(all_second_moments)\n",
    "    results_alon_matias_szegedy = results_alon_matias_szegedy.append({'l':l,\n",
    "                                        'estimation':estimated_second_moment},ignore_index=True)"
   ]
  },
  {
   "cell_type": "markdown",
   "metadata": {},
   "source": [
    "## Plot the 2-nd moment against number of hash functions (l)\n",
    "### For detailed report, refer to the repost pdf file."
   ]
  },
  {
   "cell_type": "code",
   "execution_count": 17,
   "metadata": {},
   "outputs": [
    {
     "data": {
      "image/png": "[encoded data removed]",
      "text/plain": [
       "<Figure size 432x288 with 1 Axes>"
      ]
     },
     "metadata": {
      "needs_background": "light"
     },
     "output_type": "display_data"
    }
   ],
   "source": [
    "x = results_alon_matias_szegedy['l']\n",
    "y = results_alon_matias_szegedy['estimation']\n",
    "\n",
    "plt.scatter(x=x, y=y, color='green')\n",
    "plt.xlabel(\"Number of samples\")\n",
    "plt.ylabel(\"Estimated 2-nd moment\")\n",
    "fig.tight_layout()\n",
    "plt.savefig('q10_alon_matias_szegedy_estimations')\n",
    "plt.show()"
   ]
  }
 ],
 "metadata": {
  "kernelspec": {
   "display_name": "Python 3.7.4 64-bit ('anaconda3': virtualenv)",
   "language": "python",
   "name": "python37464bitanaconda3virtualenv9f0a0eab11fa4f7d9838725065c25f15"
  },
  "language_info": {
   "codemirror_mode": {
    "name": "ipython",
    "version": 3
   },
   "file_extension": ".py",
   "mimetype": "text/x-python",
   "name": "python",
   "nbconvert_exporter": "python",
   "pygments_lexer": "ipython3",
   "version": "3.7.7"
  }
 },
 "nbformat": 4,
 "nbformat_minor": 4
}
